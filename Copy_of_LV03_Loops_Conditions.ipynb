{
  "nbformat": 4,
  "nbformat_minor": 0,
  "metadata": {
    "colab": {
      "name": "Copy of LV03_Loops-Conditions.ipynb",
      "provenance": [],
      "collapsed_sections": [],
      "toc_visible": true
    },
    "kernelspec": {
      "name": "python3",
      "display_name": "Python 3"
    }
  },
  "cells": [
    {
      "cell_type": "markdown",
      "metadata": {
        "id": "Gbd9fjOiUMmw"
      },
      "source": [
        "# Schleifen"
      ]
    },
    {
      "cell_type": "markdown",
      "metadata": {
        "id": "xwjV8Rm2URqV"
      },
      "source": [
        "Schleifen dienen dazu, Anweisungen innerhalb der Schleife wiederholt auszuführen. Es werden zwei Typen unterschieden: Die for-Schleife und die while-Schleife.\n",
        "\n",
        "Bevor eine Schleife beginnt, werden Variablen definiert, welche sich innerhalb dieser Schleife verändern. Die Schleife prüft mittels dieser Variablen, ob eine definierte Bedingung wahr oder falsch ist. Ist die Bedingung wahr (TRUE), so wird die Schleife weiterhin ausgeführt. Ist die Bedingung falsch (FALSE), so wird die Schleife beendet. Hier sei nochmals auf die booleschen Werte verwiesen.\n",
        "\n",
        "Während bei for-Schleifen die Länge der Iteration bekannt ist, kommen while-Schleifen zum Einsatz, wenn nicht bekannt ist, wie lange iteriert werden soll."
      ]
    },
    {
      "cell_type": "markdown",
      "metadata": {
        "id": "6VQMTpTrWsx2"
      },
      "source": [
        "Der allgemeine Aufbau einer Schleife lautet:\n",
        "\n",
        "```\n",
        "for Variable in Objekt:\n",
        "   Anweisung\n",
        "   ...\n",
        "   Anweisung\n",
        "else:\n",
        "   Anweisung\n",
        "   ...\n",
        "   Anweisung\n",
        "```\n",
        "\n",
        "bzw.\n",
        "\n",
        "```\n",
        "while Bedingung:\n",
        "    Anweisung\n",
        "    ...\n",
        "    Anweisung\n",
        "```\n",
        "\n",
        "Essenziell für die Programmierung von Schleifen ist dabei das richtige Einrücken der Anweisungen in den Schleifenkörper. Vergessen Sie auch nicht den Doppelpunkt am Ende der Initiierung der Schleife."
      ]
    },
    {
      "cell_type": "markdown",
      "metadata": {
        "id": "NJ17EqTdZTVU"
      },
      "source": [
        "**Führen Sie die nachfolgenden Zellen aus.**"
      ]
    },
    {
      "cell_type": "code",
      "metadata": {
        "id": "fkd2ZdCRY93M"
      },
      "source": [
        "# Bitte brechen Sie die Ausführung dieser Zelle \n",
        "# durch einen Klick auf das Stopp-Symbol links ab.\n",
        "# Dies soll verdeutlichen, dass eine While-Schleife endlos ausgeführt wird,\n",
        "# solange die Bedingung n < 20 erfüllt ist, was immer der Fall ist.\n",
        "# Hier wurde die Variable n mit Wert 10 definiert. 10 ist immer\n",
        "# kleiner als 20, daher wird die Schleife endlos ausgeführt.\n",
        "\n",
        "n = 10\n",
        "\n",
        "while n < 20:\n",
        "  print(\"TRUE.\")"
      ],
      "execution_count": null,
      "outputs": []
    },
    {
      "cell_type": "code",
      "metadata": {
        "id": "bvXPnUxYZx-e"
      },
      "source": [
        "# Umgangen werden kann dieses \"Problem\", indem die Variable innerhalb der\n",
        "# Schleife hochgesetzt wird.\n",
        "# Durch die Zeile n = n + 1 (bzw. n += 1) wird n nach jeder \n",
        "# Iteration um 1 erhöht, sodass 'TRUE.' lediglich zehn Mal ausgegeben wird.\n",
        "\n",
        "n = 10\n",
        "\n",
        "while n < 20:\n",
        "  print(\"TRUE.\")\n",
        "  n = n + 1"
      ],
      "execution_count": null,
      "outputs": []
    },
    {
      "cell_type": "markdown",
      "metadata": {
        "id": "PdtaiGhEUsPW"
      },
      "source": [
        "## for-Schleife"
      ]
    },
    {
      "cell_type": "markdown",
      "metadata": {
        "id": "8sB-17yydUJo"
      },
      "source": [
        "For-Schleifen iterieren über Objekte. Objekte sind bspw. Listen oder Strings. Sie werden jedoch im Laufe der Vorlesung noch weitere Objekte kennenlernen, über die iteriert werden kann."
      ]
    },
    {
      "cell_type": "markdown",
      "metadata": {
        "id": "-r3p-hZWdrJ0"
      },
      "source": [
        "**Führen Sie die nachfolgenden Zellen aus**"
      ]
    },
    {
      "cell_type": "code",
      "metadata": {
        "id": "mm3O0cvDUtWu",
        "colab": {
          "base_uri": "https://localhost:8080/"
        },
        "outputId": "fe37368c-c01d-4e5c-bd1c-0b5dc444b3fd"
      },
      "source": [
        "list = [1, 2, 3 , 4, 5] # Listen-Objekt\n",
        "\n",
        "# Anmerkung: 'element' ist dabei nur ein Parameter, der beliebig gewählt werden kann.\n",
        "\n",
        "for element in list:\n",
        "  print(element)"
      ],
      "execution_count": null,
      "outputs": [
        {
          "output_type": "stream",
          "name": "stdout",
          "text": [
            "1\n",
            "2\n",
            "3\n",
            "4\n",
            "5\n"
          ]
        }
      ]
    },
    {
      "cell_type": "code",
      "metadata": {
        "id": "ky28bAzhUiOG",
        "colab": {
          "base_uri": "https://localhost:8080/"
        },
        "outputId": "f4fb6ee2-b682-4b4f-9719-5d0f8b4fe498"
      },
      "source": [
        "wort = \"Hallo\" # String-Objekt\n",
        "\n",
        "for buchstabe in wort:\n",
        "  print(buchstabe)"
      ],
      "execution_count": null,
      "outputs": [
        {
          "output_type": "stream",
          "name": "stdout",
          "text": [
            "H\n",
            "a\n",
            "l\n",
            "l\n",
            "o\n"
          ]
        }
      ]
    },
    {
      "cell_type": "markdown",
      "metadata": {
        "id": "2CjmrWUBgXx2"
      },
      "source": [
        "So kann auch die Summe der Elemente einer Liste über eine for-Schleife abgebildet werden. Dazu muss eingangs nur eine Variable definiert werden, welche die einzelnen Werte der Liste aufnimmt und dadurch aufsummiert. Dies wird hier durch die Variable 'summe' erreicht."
      ]
    },
    {
      "cell_type": "code",
      "metadata": {
        "id": "3aQrJ_hNPoL0",
        "colab": {
          "base_uri": "https://localhost:8080/"
        },
        "outputId": "8297d572-b40c-439c-d94d-311c44254c1d"
      },
      "source": [
        "sum(list)"
      ],
      "execution_count": null,
      "outputs": [
        {
          "output_type": "execute_result",
          "data": {
            "text/plain": [
              "15"
            ]
          },
          "metadata": {},
          "execution_count": 3
        }
      ]
    },
    {
      "cell_type": "code",
      "metadata": {
        "id": "2IrzKZm8gmU1",
        "colab": {
          "base_uri": "https://localhost:8080/"
        },
        "outputId": "d70450e6-a2d7-4cb3-c45c-58edf64d8136"
      },
      "source": [
        "summe = 0 # Zu Beginn der Schleife ist die Summe 0\n",
        "\n",
        "for element in list:\n",
        "  summe = summe + element # die neue Summe ist gleich die bisherige Summe + das jeweilige iterierbare Element.\n",
        "\n",
        "print('Die Summe der Listenelemente beträgt: ' + str(summe)) \n",
        "\n",
        "# Achten Sie darauf, dass die Ausgabe der Summe nicht in den Schleifenkörper eingerückt sein sollte. Ansonsten wird die Summe bei jeder Iteration ausgegeben."
      ],
      "execution_count": null,
      "outputs": [
        {
          "output_type": "stream",
          "name": "stdout",
          "text": [
            "Die Summe der Listenelemente beträgt: 15\n"
          ]
        }
      ]
    },
    {
      "cell_type": "markdown",
      "metadata": {
        "id": "M7Az5DUVhXm6"
      },
      "source": [
        "Einen weiteren interessanten Anwendungsfall liefert die range()-Funktion. Die range()-Funktion erzeugt ein Objekt, welches alle ganzen Zahlen der definierten Spanne durchläuft. Der Aufbau der range-Funktion lautet:\n",
        "\n",
        "```\n",
        "range(stop)\n",
        "range(start, stop)\n",
        "range(start, stop, schritt)\n",
        "```\n",
        "start definiert dabei die Zahl, mit der Begonnen wird. Die Schleife wird beim Erreichen von stop beendet, allerdings ist der stop-Wert exklusiv. Bei jeder Iteration wird der Schleifenzähler um schritt erhöht. "
      ]
    },
    {
      "cell_type": "markdown",
      "metadata": {
        "id": "u8OupszWiKzU"
      },
      "source": [
        "Führen Sie die nachfolgenden Zellen aus."
      ]
    },
    {
      "cell_type": "code",
      "metadata": {
        "id": "6DLs11hXiMvo",
        "colab": {
          "base_uri": "https://localhost:8080/"
        },
        "outputId": "aa42392e-dbd2-4796-82f1-a6623ef9cf61"
      },
      "source": [
        "for i in range(5): # Gibt 0 - 4 aus (5 als stop-Wert exkludiert)\n",
        "  print(i)"
      ],
      "execution_count": null,
      "outputs": [
        {
          "output_type": "stream",
          "name": "stdout",
          "text": [
            "0\n",
            "1\n",
            "2\n",
            "3\n",
            "4\n"
          ]
        }
      ]
    },
    {
      "cell_type": "code",
      "metadata": {
        "id": "_TCoJ7sGgbkO",
        "colab": {
          "base_uri": "https://localhost:8080/"
        },
        "outputId": "5001e7d4-5fb7-44c5-f81d-99ac2f7188ae"
      },
      "source": [
        "for i in range(2, 5): # start bei 2, stop-Wert bei 5, somit wird 2-4 ausgegeben\n",
        "  print(i)"
      ],
      "execution_count": null,
      "outputs": [
        {
          "output_type": "stream",
          "name": "stdout",
          "text": [
            "2\n",
            "3\n",
            "4\n"
          ]
        }
      ]
    },
    {
      "cell_type": "code",
      "metadata": {
        "id": "EIC3R2_UUQt8",
        "colab": {
          "base_uri": "https://localhost:8080/"
        },
        "outputId": "69e6b1b9-5b72-4a20-c8a7-ed1df3660419"
      },
      "source": [
        "for i in range(1, 10, 2): \n",
        "# start bei 1, stop bei 10, schritt = 2, somit:\n",
        "  print(i)"
      ],
      "execution_count": null,
      "outputs": [
        {
          "output_type": "stream",
          "name": "stdout",
          "text": [
            "1\n",
            "3\n",
            "5\n",
            "7\n",
            "9\n"
          ]
        }
      ]
    },
    {
      "cell_type": "code",
      "metadata": {
        "id": "YUHUxPlkSQFC",
        "colab": {
          "base_uri": "https://localhost:8080/"
        },
        "outputId": "d3ccce9b-d69e-4960-fdce-a784404b7373"
      },
      "source": [
        "summe = 0\n",
        "for element in range(1,4):\n",
        "  summe = summe + element\n",
        "print(summe)\n"
      ],
      "execution_count": null,
      "outputs": [
        {
          "output_type": "stream",
          "name": "stdout",
          "text": [
            "6\n"
          ]
        }
      ]
    },
    {
      "cell_type": "markdown",
      "metadata": {
        "id": "Dgl4hMksUudN"
      },
      "source": [
        "## while-Schleife"
      ]
    },
    {
      "cell_type": "markdown",
      "metadata": {
        "id": "y9gybH_upCe8"
      },
      "source": [
        "Die while-Schleife ist wie erwähnt eine Endlosschleife. Es sei denn, es werden Abbruchkriterien (break) festgelegt bzw. der Zähler mit jeder Iteration weiter hochgesetzt, sodass sich dieser der als maximal definierten Bedingung annähert."
      ]
    },
    {
      "cell_type": "markdown",
      "metadata": {
        "id": "XnvwKIMCqxQa"
      },
      "source": [
        "**Führen Sie die nachfolgenden Zellen aus.**"
      ]
    },
    {
      "cell_type": "code",
      "metadata": {
        "id": "TkgOrLTsUv2J",
        "colab": {
          "base_uri": "https://localhost:8080/"
        },
        "outputId": "90f0efd7-2bfb-4b5c-da7f-bb24cdf19f38"
      },
      "source": [
        "i = 1\n",
        "while i <= 5: # Solange i kleiner oder gleich 5 ist\n",
        "  print(i) # gebe i aus\n",
        "  i = i + 1 # im Anschluss erhöhe i um 1"
      ],
      "execution_count": null,
      "outputs": [
        {
          "output_type": "stream",
          "name": "stdout",
          "text": [
            "1\n",
            "2\n",
            "3\n",
            "4\n",
            "5\n"
          ]
        }
      ]
    },
    {
      "cell_type": "code",
      "metadata": {
        "id": "itrxAq04rDX9",
        "colab": {
          "base_uri": "https://localhost:8080/"
        },
        "outputId": "14b2558f-ee38-4202-952f-273a30e5c521"
      },
      "source": [
        "i = 1\n",
        "while i < 5: # Solange i kleiner 5 ist\n",
        "  print(i) # gebe i aus\n",
        "  if i == 3: # wenn i drei entspricht\n",
        "    break # breche ab\n",
        "  i = i + 1 # sonst erhöhe i um 1"
      ],
      "execution_count": null,
      "outputs": [
        {
          "output_type": "stream",
          "name": "stdout",
          "text": [
            "1\n",
            "2\n",
            "3\n"
          ]
        }
      ]
    },
    {
      "cell_type": "code",
      "metadata": {
        "id": "mSvFVVjYrRKJ",
        "colab": {
          "base_uri": "https://localhost:8080/"
        },
        "outputId": "9dfc2988-6d8b-4c50-d989-9df7d8606534"
      },
      "source": [
        "i = 0\n",
        "while i < 5: # Solange i kleiner 5 ist\n",
        "  i = i + 1\n",
        "  if i == 3: # wenn i drei entspricht\n",
        "    continue # fahre fort, dadurch wird die Ausgabe von 3 übersprungen.\n",
        "  print(i) # gebe i aus"
      ],
      "execution_count": null,
      "outputs": [
        {
          "output_type": "stream",
          "name": "stdout",
          "text": [
            "1\n",
            "2\n",
            "4\n",
            "5\n"
          ]
        }
      ]
    },
    {
      "cell_type": "code",
      "metadata": {
        "id": "IZwphET0r5Af",
        "colab": {
          "base_uri": "https://localhost:8080/"
        },
        "outputId": "710e8249-7f02-471e-d660-e90acf4ab188"
      },
      "source": [
        "i = 0\n",
        "while i < 5: # Solange i kleiner 5 ist\n",
        "  print(i) # gebe i aus\n",
        "  i = i + 1 # und setze i um 1 hoch\n",
        "else: # andernfalls\n",
        "  print(\"Die Iteration endet hier. i ist nicht mehr kleiner als 5.\") # gebe folgendes aus."
      ],
      "execution_count": null,
      "outputs": [
        {
          "output_type": "stream",
          "name": "stdout",
          "text": [
            "0\n",
            "1\n",
            "2\n",
            "3\n",
            "4\n",
            "Die Iteration endet hier. i ist nicht mehr kleiner als 5.\n"
          ]
        }
      ]
    },
    {
      "cell_type": "markdown",
      "metadata": {
        "id": "r4P9pFL051r2"
      },
      "source": [
        "Allgemein interesant ist bei Schleifen noch das break Keyword, mit dem die Ausführung abgebrochen werden kann."
      ]
    },
    {
      "cell_type": "code",
      "metadata": {
        "id": "P1fCDCK35V81",
        "colab": {
          "base_uri": "https://localhost:8080/"
        },
        "outputId": "727b517e-1d8b-4bad-ceb4-f4c8c75210ef"
      },
      "source": [
        "i = 0\n",
        "while True: # Schleife würde ohne 'break' immer weiterlaufen\n",
        "  print(i)\n",
        "  i += 1\n",
        "  if (i>5):\n",
        "    break # Schleife wird hier beendet"
      ],
      "execution_count": null,
      "outputs": [
        {
          "output_type": "stream",
          "name": "stdout",
          "text": [
            "0\n",
            "1\n",
            "2\n",
            "3\n",
            "4\n",
            "5\n"
          ]
        }
      ]
    },
    {
      "cell_type": "markdown",
      "metadata": {
        "id": "2vSHZVQzscFC"
      },
      "source": [
        "# Bedingungen"
      ]
    },
    {
      "cell_type": "markdown",
      "metadata": {
        "id": "JMtxgrK2sd8Q"
      },
      "source": [
        "Eine if-Bedingung ist (wie vllt. aus Excel bekannt) eine Wenn-Dann-Sonst Anweisung."
      ]
    },
    {
      "cell_type": "markdown",
      "metadata": {
        "id": "73VBkLvauFiW"
      },
      "source": [
        "**Führen Sie die nachfolgenden Zellen aus.**"
      ]
    },
    {
      "cell_type": "code",
      "metadata": {
        "id": "AW2wxJ-HsdFD"
      },
      "source": [
        "i = 1\n",
        "\n",
        "if i == 1: # Wenn i gleich 1 ist\n",
        "  print(\"TRUE\") # dann gebe TRUE aus\n",
        "else: # sonst\n",
        "  print(\"FALSE\") # gebe FALSE aus."
      ],
      "execution_count": null,
      "outputs": []
    },
    {
      "cell_type": "markdown",
      "metadata": {
        "id": "LoJXBf8uuK3S"
      },
      "source": [
        "Die Funktion input() ermöglicht es, eine Nutzereingabe anzufordern und diese zu prüfen. Weitere Bedingungen können mit dem Befehl elif ergänzt werden.\n",
        "Wichtig: Da die Eingabe über input() prinzipiell auch ein String sein könnte, wurde die Eingabe als integer definiert mittels int(input())."
      ]
    },
    {
      "cell_type": "code",
      "metadata": {
        "id": "v6SLU9-qt9Ju"
      },
      "source": [
        "eingabe = int(input('Bitte geben Sie eine Zahl zwischen 1 und 10 ein.'))\n",
        "\n",
        "if eingabe == 5: # Wenn eingabe mit 5 übereinstimmt\n",
        "  print('Punktlandung') # dann gebe 'Punktlandung' aus\n",
        "elif eingabe < 5: # wenn eingabe < 5 ist\n",
        "  print('zu klein') # dann gebe 'zu klein' aus\n",
        "else: # sonst (alles andere, somit > 5)\n",
        "  print('zu groß')\n"
      ],
      "execution_count": null,
      "outputs": []
    },
    {
      "cell_type": "code",
      "metadata": {
        "id": "dkyIebw_Vf3z",
        "colab": {
          "base_uri": "https://localhost:8080/"
        },
        "outputId": "316b9daa-f97b-4213-b9f4-d63a4bd90d6a"
      },
      "source": [
        "eingabe = int(input(\"Bitte geben Sie eine Zahl zwischen 1 und 10 ein.\"))\n",
        "\n",
        "if eingabe == 5:\n",
        "  print(\"Das ist richtig.\")\n",
        "else:\n",
        "  print(\"Das ist falsch.\")"
      ],
      "execution_count": null,
      "outputs": [
        {
          "output_type": "stream",
          "name": "stdout",
          "text": [
            "Bitte geben Sie eine Zahl zwischen 1 und 10 ein.7\n",
            "Das ist falsch.\n"
          ]
        }
      ]
    },
    {
      "cell_type": "markdown",
      "metadata": {
        "id": "XCe0waO8vJOA"
      },
      "source": [
        "Die while-Schleife ermöglicht hier mehrere Eingabe-Iterationen, um ein kleines Zahlenraten zu bauen."
      ]
    },
    {
      "cell_type": "code",
      "metadata": {
        "id": "OBRCedHRuw_-",
        "colab": {
          "base_uri": "https://localhost:8080/"
        },
        "outputId": "60f68e23-85a7-44c9-bbf4-088b9be8052a"
      },
      "source": [
        "versuch = 0\n",
        "\n",
        "while versuch < 3: # solange versuch < 3\n",
        "  eingabe = int(input('Bitte geben Sie eine Zahl zwischen 1 und 10 ein.'))\n",
        "  if eingabe == 5: # wenn die eingabe 5 ist\n",
        "    print('Gewonnen!') # gebe 'Gewonnen!' aus\n",
        "    break # und breche ab, da richtig geraten wurde.\n",
        "  elif eingabe < 5: # wenn eingabe < 5 ist\n",
        "    print('zu klein') # gebe zu klein aus\n",
        "  else: # sonst (> 5)\n",
        "    print('zu groß')\n",
        "  if versuch == 2: # Wenn der letzte Versuch falsch ist\n",
        "    print('Leider verloren.') # gebe 'Leider verloren.' aus.\n",
        "  versuch = versuch + 1 # setze versuch um 1 hoch\n"
      ],
      "execution_count": null,
      "outputs": [
        {
          "output_type": "stream",
          "name": "stdout",
          "text": [
            "Bitte geben Sie eine Zahl zwischen 1 und 10 ein.4\n",
            "zu klein\n",
            "Bitte geben Sie eine Zahl zwischen 1 und 10 ein.2\n",
            "zu klein\n",
            "Bitte geben Sie eine Zahl zwischen 1 und 10 ein.3\n",
            "zu klein\n",
            "Leider verloren.\n"
          ]
        }
      ]
    },
    {
      "cell_type": "markdown",
      "metadata": {
        "id": "KnrZ79Csw9qy"
      },
      "source": [
        "# Aufgaben"
      ]
    },
    {
      "cell_type": "markdown",
      "metadata": {
        "id": "kiL0bqShyVDp"
      },
      "source": [
        "1. Erstellen Sie eine Liste namens list mit den Zahlen 1, 3, 5, 7, 9 und 11."
      ]
    },
    {
      "cell_type": "code",
      "metadata": {
        "id": "pjnlQHz1xATg"
      },
      "source": [
        "alist=[1,3,5,7,9,11]"
      ],
      "execution_count": null,
      "outputs": []
    },
    {
      "cell_type": "markdown",
      "metadata": {
        "id": "CvrCe5RTyW4R"
      },
      "source": [
        "2. Fügen Sie der Liste die Nummer 2 an der richtigen Position (in Reihenfolge) hinzu."
      ]
    },
    {
      "cell_type": "code",
      "metadata": {
        "id": "ETudxGQMyaTz",
        "colab": {
          "base_uri": "https://localhost:8080/"
        },
        "outputId": "7e9a5e42-28e9-4149-c8c9-6ca97be04e8b"
      },
      "source": [
        "alist=[1,3,5,7,9,11]\n",
        "alist.extend([2])\n",
        "sorted(alist)"
      ],
      "execution_count": null,
      "outputs": [
        {
          "output_type": "execute_result",
          "data": {
            "text/plain": [
              "[1, 2, 3, 5, 7, 9, 11]"
            ]
          },
          "metadata": {},
          "execution_count": 22
        }
      ]
    },
    {
      "cell_type": "markdown",
      "metadata": {
        "id": "-EyP9De5ybAb"
      },
      "source": [
        "3. Überprüfen Sie, ob die Liste korrekt ergänzt wurde (print)."
      ]
    },
    {
      "cell_type": "code",
      "metadata": {
        "id": "-lJDeJxCyemn",
        "colab": {
          "base_uri": "https://localhost:8080/"
        },
        "outputId": "08f33238-3580-4eac-ca8a-32682e2998a5"
      },
      "source": [
        "print(sorted(alist))"
      ],
      "execution_count": null,
      "outputs": [
        {
          "output_type": "stream",
          "name": "stdout",
          "text": [
            "[1, 2, 3, 5, 7, 9, 11]\n"
          ]
        }
      ]
    },
    {
      "cell_type": "markdown",
      "metadata": {
        "id": "V8a2AxRcyfJs"
      },
      "source": [
        "4. Bilden Sie die Summe der Liste. Dazu steht Ihnen die integrierte sum() Funktion zur Verfügung."
      ]
    },
    {
      "cell_type": "code",
      "metadata": {
        "id": "fTd2ZoMnyjwW",
        "colab": {
          "base_uri": "https://localhost:8080/"
        },
        "outputId": "18b52aa9-56b9-4fc3-d96e-ed40335f6dcc"
      },
      "source": [
        "sum(alist)"
      ],
      "execution_count": null,
      "outputs": [
        {
          "output_type": "execute_result",
          "data": {
            "text/plain": [
              "38"
            ]
          },
          "metadata": {},
          "execution_count": 24
        }
      ]
    },
    {
      "cell_type": "markdown",
      "metadata": {
        "id": "RUGSy8MqykUo"
      },
      "source": [
        "5. Summeren Sie die Zahlen von 1 bis 100 auf. Hierzu hilft Ihnen die range() Funktion und geben Sie diese aus. \n",
        "\n",
        "**Tipp 1:** Bei der Summierung von Werten lohnt es sich, eine Variable zu bilden, welche die Summen aufnimmt, zwischenspeichert und ggf. neue Werte hinzuaddiert.\n",
        "\n",
        "**Tipp 2:** Definieren Sie dazu eine Variable namens summe, welche zu Beginn den Wert Null besitzt. Bedenke, dass die range()-Funktion immer mit 0 beginnt (z. B. range(5) = 0, 1, 2, 3, 4) und der zu definierendebegin-Wert eingeschlossen und der end-Wert ausgeschlossen wird (z. B. range(begin, end) = range(1, 5) = 1, 2, 3, 4). Geben Sie sich zum Verständnis doch ebenfalls die range von 1 bis 100 aus und achten Sie darauf, dass die 100 am Ende der Liste enthalten ist.\n"
      ]
    },
    {
      "cell_type": "code",
      "metadata": {
        "id": "w_bQn997ym5D",
        "colab": {
          "base_uri": "https://localhost:8080/"
        },
        "outputId": "c70244d1-7eb5-443b-d26c-1f5f47d30919"
      },
      "source": [
        "summe=0\n",
        "for element in range(1,101):\n",
        "  summe=summe+element\n",
        "  print(summe)"
      ],
      "execution_count": null,
      "outputs": [
        {
          "output_type": "stream",
          "name": "stdout",
          "text": [
            "1\n",
            "3\n",
            "6\n",
            "10\n",
            "15\n",
            "21\n",
            "28\n",
            "36\n",
            "45\n",
            "55\n",
            "66\n",
            "78\n",
            "91\n",
            "105\n",
            "120\n",
            "136\n",
            "153\n",
            "171\n",
            "190\n",
            "210\n",
            "231\n",
            "253\n",
            "276\n",
            "300\n",
            "325\n",
            "351\n",
            "378\n",
            "406\n",
            "435\n",
            "465\n",
            "496\n",
            "528\n",
            "561\n",
            "595\n",
            "630\n",
            "666\n",
            "703\n",
            "741\n",
            "780\n",
            "820\n",
            "861\n",
            "903\n",
            "946\n",
            "990\n",
            "1035\n",
            "1081\n",
            "1128\n",
            "1176\n",
            "1225\n",
            "1275\n",
            "1326\n",
            "1378\n",
            "1431\n",
            "1485\n",
            "1540\n",
            "1596\n",
            "1653\n",
            "1711\n",
            "1770\n",
            "1830\n",
            "1891\n",
            "1953\n",
            "2016\n",
            "2080\n",
            "2145\n",
            "2211\n",
            "2278\n",
            "2346\n",
            "2415\n",
            "2485\n",
            "2556\n",
            "2628\n",
            "2701\n",
            "2775\n",
            "2850\n",
            "2926\n",
            "3003\n",
            "3081\n",
            "3160\n",
            "3240\n",
            "3321\n",
            "3403\n",
            "3486\n",
            "3570\n",
            "3655\n",
            "3741\n",
            "3828\n",
            "3916\n",
            "4005\n",
            "4095\n",
            "4186\n",
            "4278\n",
            "4371\n",
            "4465\n",
            "4560\n",
            "4656\n",
            "4753\n",
            "4851\n",
            "4950\n",
            "5050\n"
          ]
        }
      ]
    },
    {
      "cell_type": "code",
      "metadata": {
        "id": "RjfUIAlLX0Zr",
        "colab": {
          "base_uri": "https://localhost:8080/"
        },
        "outputId": "0ee2e6f5-f5a7-4653-ed0d-b3e2e740f63b"
      },
      "source": [
        "sum(range(1,101))"
      ],
      "execution_count": null,
      "outputs": [
        {
          "output_type": "execute_result",
          "data": {
            "text/plain": [
              "5050"
            ]
          },
          "metadata": {},
          "execution_count": 34
        }
      ]
    },
    {
      "cell_type": "markdown",
      "metadata": {
        "id": "2JBXPrl1yqb6"
      },
      "source": [
        "6. Schreiben Sie ein Programm, welches folgende Schritte abdeckt:\n",
        "\n",
        "1) Ein Benutzer soll eine Zahl eingeben können. Hierzu hilft Ihnen die Funktion input(). Definieren Sie den Input als Variable eingabe. Achten Sie weiterhin darauf, dass nur ganzzahlige Werte berücksichtigt werden.\n",
        "\n",
        "2) Prüfen Sie, ob die Zahl kleiner, gleich oder größer als 5 ist.\n",
        "\n",
        "3) Geben Sie jeweils aus, welcher Fall zutrifft."
      ]
    },
    {
      "cell_type": "code",
      "metadata": {
        "id": "ELVADxV8yrpA",
        "colab": {
          "base_uri": "https://localhost:8080/"
        },
        "outputId": "ea2a1374-ce5b-45a1-8d7c-74c32555eb41"
      },
      "source": [
        "eingabe=int(input('geben Sie die Nummer:'))\n",
        "if eingabe<5:\n",
        "  print('kleiner als 5')\n",
        "elif eingabe==5:\n",
        "  print('exakt')\n",
        "else:\n",
        "  print('grosser als 5')"
      ],
      "execution_count": null,
      "outputs": [
        {
          "output_type": "stream",
          "name": "stdout",
          "text": [
            "geben Sie die Nummer:2\n",
            "kleiner als 5\n"
          ]
        }
      ]
    },
    {
      "cell_type": "markdown",
      "metadata": {
        "id": "t8UAE_cAK5nM"
      },
      "source": [
        "Loops und Dictionaries: Schreiben Sie ein Skript, welches alle Inhalte (Key und Wert) des folgenden Dictionary mit einer Schleife als Strings formatiert ausgibt. Tipp: nutzen Sie dazu die Funktion dict.items()"
      ]
    },
    {
      "cell_type": "code",
      "metadata": {
        "id": "IKnhX7XmK4w9",
        "colab": {
          "base_uri": "https://localhost:8080/"
        },
        "outputId": "b97aaa77-4cae-45bb-9b88-39e3332068ce"
      },
      "source": [
        "dict = {\"Name\": \"Max\", \"Alter\": 22, \"Hobbies\": \"Fußball\"}\n",
        "dict.items()"
      ],
      "execution_count": null,
      "outputs": [
        {
          "output_type": "execute_result",
          "data": {
            "text/plain": [
              "dict_items([('Name', 'Max'), ('Alter', 22), ('Hobbies', 'Fußball')])"
            ]
          },
          "metadata": {},
          "execution_count": 64
        }
      ]
    },
    {
      "cell_type": "code",
      "metadata": {
        "id": "U_AX-H4SqcDk",
        "colab": {
          "base_uri": "https://localhost:8080/"
        },
        "outputId": "9d99aaf4-b640-4d99-d56c-a0b84ad6e5b2"
      },
      "source": [
        "for key,value in dict.items():\n",
        "  print(key+\":\"+str(value))"
      ],
      "execution_count": null,
      "outputs": [
        {
          "output_type": "stream",
          "name": "stdout",
          "text": [
            "Name:Max\n",
            "Alter:22\n",
            "Hobbies:Fußball\n"
          ]
        }
      ]
    },
    {
      "cell_type": "markdown",
      "metadata": {
        "id": "VRHYyhhtZJ7e"
      },
      "source": [
        "Datenanalyse: Durchschnitt einer Liste ermitteln.\n"
      ]
    },
    {
      "cell_type": "code",
      "metadata": {
        "id": "p2toMcETZLyc"
      },
      "source": [
        "koerpergroesse = [160, 170, 163, 175, 180, 190]"
      ],
      "execution_count": null,
      "outputs": []
    },
    {
      "cell_type": "code",
      "metadata": {
        "id": "5VSt86Y6ZV0e",
        "colab": {
          "base_uri": "https://localhost:8080/"
        },
        "outputId": "b2be93c2-7a2a-4860-bd06-1e41071e239f"
      },
      "source": [
        "# summe aller Merkmalsausprägungen (Elemente der Liste) geteilt durch die Anzahl der Merkmalsausprägungen (Elemente der Liste) \n",
        "# 1/n * summe(xi)\n",
        "n = len(koerpergroesse)\n",
        "summe = 0\n",
        "for xi in koerpergroesse:\n",
        "  summe=summe+xi\n",
        "print(summe)\n",
        "durchschnitt=summe/n\n",
        "print(durchschnitt)"
      ],
      "execution_count": null,
      "outputs": [
        {
          "output_type": "stream",
          "name": "stdout",
          "text": [
            "1038\n",
            "173.0\n"
          ]
        }
      ]
    },
    {
      "cell_type": "code",
      "metadata": {
        "id": "0K642NsbkIyg",
        "colab": {
          "base_uri": "https://localhost:8080/"
        },
        "outputId": "9ab3d695-e7dc-4974-bf5c-9630f4d5b571"
      },
      "source": [
        "durchschnitt2=sum(koerpergroesse)/len(koerpergroesse)\n",
        "print(durchschnitt2)"
      ],
      "execution_count": null,
      "outputs": [
        {
          "output_type": "stream",
          "name": "stdout",
          "text": [
            "173.0\n"
          ]
        }
      ]
    },
    {
      "cell_type": "markdown",
      "metadata": {
        "id": "cUGKHWtWa7on"
      },
      "source": [
        "Erstellen Sie eine neue Liste, welche nur gerade Werte einer zweiten Liste enthält.  Tipp: nutzen Sie dazu den Modulo-Operator %, der ihnen den Rest einer Division zurückgibt (d.h. 2%2 = 0, 3%2 = 1, etc.)"
      ]
    },
    {
      "cell_type": "code",
      "metadata": {
        "id": "H-x8m1HvkFz8"
      },
      "source": [
        ""
      ],
      "execution_count": null,
      "outputs": []
    },
    {
      "cell_type": "code",
      "metadata": {
        "id": "YaoV9J3NbCoo",
        "colab": {
          "base_uri": "https://localhost:8080/"
        },
        "outputId": "aedc5cd2-2be2-4310-d702-b68a394f9f97"
      },
      "source": [
        "liste1 = [1, 2, 3, 4, 5, 6, 7, 8, 9, 10]\n",
        "liste2 = []\n",
        "\n",
        "for n in liste1:\n",
        "  print(n%2)\n",
        "  if n%2==0:\n",
        "    liste2.append(n)\n",
        "print(liste2)"
      ],
      "execution_count": null,
      "outputs": [
        {
          "output_type": "stream",
          "name": "stdout",
          "text": [
            "1\n",
            "0\n",
            "1\n",
            "0\n",
            "1\n",
            "0\n",
            "1\n",
            "0\n",
            "1\n",
            "0\n",
            "[2, 4, 6, 8, 10]\n"
          ]
        }
      ]
    },
    {
      "cell_type": "code",
      "metadata": {
        "id": "jsI6-PuLm4BE"
      },
      "source": [
        ""
      ],
      "execution_count": null,
      "outputs": []
    }
  ]
}