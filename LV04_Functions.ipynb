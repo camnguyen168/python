{
  "nbformat": 4,
  "nbformat_minor": 0,
  "metadata": {
    "colab": {
      "name": "LV04_Functions.ipynb",
      "provenance": [],
      "collapsed_sections": [],
      "include_colab_link": true
    },
    "kernelspec": {
      "name": "python3",
      "display_name": "Python 3"
    }
  },
  "cells": [
    {
      "cell_type": "markdown",
      "metadata": {
        "id": "view-in-github",
        "colab_type": "text"
      },
      "source": [
        "<a href=\"https://colab.research.google.com/github/camnguyen168/python/blob/main/LV04_Functions.ipynb\" target=\"_parent\"><img src=\"https://colab.research.google.com/assets/colab-badge.svg\" alt=\"Open In Colab\"/></a>"
      ]
    },
    {
      "cell_type": "markdown",
      "metadata": {
        "id": "0cBlQDFLHgRJ"
      },
      "source": [
        "#**Funktionen**"
      ]
    },
    {
      "cell_type": "markdown",
      "metadata": {
        "id": "kNWxPVwTIMQe"
      },
      "source": [
        "Funktionen dienen in Python einerseits dazu, Codeduplizität zu vermeiden, d.h. einen Code, der mehrfach ausgeführt werden soll, nicht erneut verfassen zu müssen. Andererseits wird auch die Struktur und Übersichtlichkeit des Codes verbessert. Dies wird zusätzlich durch einen treffenden Funktionsnamen erreicht, welcher die Funktion bestmöglich repräsentiert. "
      ]
    },
    {
      "cell_type": "markdown",
      "metadata": {
        "id": "O6rAy0tWI2qL"
      },
      "source": [
        "Funktionen werden mit def angeführt:\n",
        "```\n",
        "def function(argument):\n",
        "  print(argument)\n",
        "```\n",
        "\n",
        "In vielen Fällen ist es notwendig, der Funktion ein Argument zu übergeben. Dies kann sowohl das Ergebnis einer anderen Funktion, als auch eine Eingabe sein.\n",
        "Im obigen Beispiel wird das Argument 'argument' übergeben und durch die Funktion ausgegeben. \n",
        "Die Funktion wird schließlich durch ihren Namen aufgerufen.\n",
        "\n",
        "**Führen Sie den nachfolgenden Code aus.**"
      ]
    },
    {
      "cell_type": "code",
      "metadata": {
        "id": "ae8EUatNHlUw"
      },
      "source": [
        "def zahl_ausgeben(zahl):\n",
        "  print(zahl)\n",
        "\n",
        "# Aufrufen der Funktion:\n",
        "zahl_ausgeben(10)"
      ],
      "execution_count": null,
      "outputs": []
    },
    {
      "cell_type": "markdown",
      "metadata": {
        "id": "Lema2QmPKVIY"
      },
      "source": [
        "Als nächstes Beispiel soll ein kleiner Taschenrechner zwei vom Nutzer einzugebende Zahlen miteinander multiplizieren. Für den Taschenrechner werden diesmal keine Argumente verlangt, da diese innerhalb der Funktion eingegeben werden müssen."
      ]
    },
    {
      "cell_type": "code",
      "metadata": {
        "id": "txQ_V4WlJmhb"
      },
      "source": [
        "def produkt(a, b):\n",
        "  ergebnis = a*b\n",
        "  print(\"Das Produkt beider Zahlen lautet: \", ergebnis)\n",
        "\n",
        "zahl1 = int(input('Bitte geben Sie die erste Zahl ein: ')) # nicht vergessen, input muss integer sein\n",
        "zahl2 = int(input('Bitte geben Sie die zweite Zahl ein: '))\n",
        "produkt(zahl1,zahl2)\n"
      ],
      "execution_count": null,
      "outputs": []
    },
    {
      "cell_type": "markdown",
      "metadata": {
        "id": "YGlw0f78Rgj3"
      },
      "source": [
        "Mittels Funktionen können Sie so auch bspw. das arithmetische Mittel definieren, um es immer wieder ohne erneuten Codeblock berechnen zu können. Hier wird eine Liste als Argument verlangt."
      ]
    },
    {
      "cell_type": "code",
      "metadata": {
        "id": "4x0CNUHxJmok"
      },
      "source": [
        "# die summe aller merkmalsausprägungen geteilt durch deren anzahl\n",
        "def mean(liste):\n",
        "  summe = 0\n",
        "  for i in liste:\n",
        "    summe += i\n",
        "  mean = summe / len(liste)\n",
        "  print('Der Durchschnitt ist: ', mean)"
      ],
      "execution_count": null,
      "outputs": []
    },
    {
      "cell_type": "code",
      "metadata": {
        "id": "78Klll1wSFmY"
      },
      "source": [
        "mietpreise = [5, 10, 15, 20, 23]\n",
        "\n",
        "mean(mietpreise) # berechne den Durchschnitt der Liste mieten"
      ],
      "execution_count": null,
      "outputs": []
    },
    {
      "cell_type": "markdown",
      "metadata": {
        "id": "13vxjI4USV4j"
      },
      "source": [
        "Soll nun der Durchschnitt einer weiteren Liste ermittelt werden, so brauchen Sie nur die mean()-Funktion aufzurufen."
      ]
    },
    {
      "cell_type": "code",
      "metadata": {
        "id": "kNz1B0qWSUoD"
      },
      "source": [
        "qm = [20, 40, 60, 90]\n",
        "\n",
        "mean(qm)"
      ],
      "execution_count": null,
      "outputs": []
    },
    {
      "cell_type": "markdown",
      "metadata": {
        "id": "drA57OO7Suwh"
      },
      "source": [
        "Bisher wurden die Ergebnisse mittels print() lediglich ausgegeben. Werden Results jedoch im weiteren Verlauf des Codes benötigt, so müssen Funktionen eine Rückgabe zurückgeben. Dies geschieht mittels return. Die Rückgaben können so einer Variablen zugeordnet werden:"
      ]
    },
    {
      "cell_type": "code",
      "metadata": {
        "id": "YPPFCgZsS_yn"
      },
      "source": [
        "def addieren(zahl1, zahl2):\n",
        "  ergebnis = zahl1 + zahl2\n",
        "  return ergebnis # hier wird das Ergebnis aus der Addition von zahl1 und zahl2 zurückgegeben"
      ],
      "execution_count": null,
      "outputs": []
    },
    {
      "cell_type": "code",
      "metadata": {
        "id": "dnOX7QosTWId"
      },
      "source": [
        "summe = addieren(5, 10) # durch das zuweisen der Rückgabe der Funktion zur Variablen summe, nimmt diese den Rückgabewert an"
      ],
      "execution_count": null,
      "outputs": []
    },
    {
      "cell_type": "code",
      "metadata": {
        "id": "FYayvR9YTie5"
      },
      "source": [
        "print(summe)"
      ],
      "execution_count": null,
      "outputs": []
    },
    {
      "cell_type": "code",
      "metadata": {
        "id": "4636blUkPL1o"
      },
      "source": [
        "def pruefen(eingabe):\n",
        "  if eingabe == 0:\n",
        "    return \"False\"\n",
        "  else:\n",
        "    return eingabe"
      ],
      "execution_count": null,
      "outputs": []
    },
    {
      "cell_type": "code",
      "metadata": {
        "id": "sTU_DHeRPewD"
      },
      "source": [
        "pruefen(0)"
      ],
      "execution_count": null,
      "outputs": []
    },
    {
      "cell_type": "markdown",
      "metadata": {
        "id": "Q-tJgjA0Y9FG"
      },
      "source": [
        "Bei Funktionen ist zu beachten, dass darin definierte Variablen nur lokal funktionieren. Wenn man auf Variablen aus dem Haupt-Skript zugreifen will, kann dies mit dem Befehlt global geschehen (eleganter ist es aber, die return methode zu benutzen, um Variablen im Hauptskript zu ändern). \n",
        "\n",
        "Die folgenden Beispiele soll diese Prinzipien veranschaulichen."
      ]
    },
    {
      "cell_type": "code",
      "metadata": {
        "id": "m7zTrtU2ZQBL"
      },
      "source": [
        "def plusEins(zahl):\n",
        "  zahl = zahl + 1\n",
        "  print(\"In Funktion:\",zahl)\n",
        "\n",
        "zahl = 1\n",
        "print(\"Vor Funktion:\",zahl)\n",
        "plusEins(zahl)\n",
        "print(\"Nach Funktion:\",zahl) # Variable bleibt unverändert, die Fuktion hat nur lokal gezählt"
      ],
      "execution_count": null,
      "outputs": []
    },
    {
      "cell_type": "code",
      "metadata": {
        "id": "drTb-fugaJj0"
      },
      "source": [
        "def plusEins():\n",
        "  global zahl\n",
        "  zahl = zahl + 1\n",
        "  print(\"In Funktion:\",zahl)\n",
        "\n",
        "zahl = 1\n",
        "print(\"Vor Funktion:\",zahl)\n",
        "plusEins()\n",
        "print(\"Nach Funktion:\",zahl) # Variable wird verändert, Funktion hat sich global ausgewirkt\n"
      ],
      "execution_count": null,
      "outputs": []
    },
    {
      "cell_type": "code",
      "metadata": {
        "id": "xaWwQguLaJ89"
      },
      "source": [
        "def plusEins(zahl):\n",
        "  zahl = zahl + 1\n",
        "  return zahl\n",
        "\n",
        "zahl = 1\n",
        "print(\"Vor Funktion:\",zahl)\n",
        "zahl = plusEins(zahl)\n",
        "print(\"Nach Funktion:\",zahl) # Variable wurde verändert über die return Methode (beste Lösung!)"
      ],
      "execution_count": null,
      "outputs": []
    },
    {
      "cell_type": "markdown",
      "metadata": {
        "id": "xEi-zNP8T2J0"
      },
      "source": [
        "## **Aufgaben**"
      ]
    },
    {
      "cell_type": "markdown",
      "metadata": {
        "id": "qTxEmxEwT6tk"
      },
      "source": [
        "1. Erstellen Sie einen kleinen Taschenrechner als Funktion, der je nach Eingabe durch den Benutzer zwei Zahlen addieren, subtrahieren, multiplizieren oder dividieren kann."
      ]
    },
    {
      "cell_type": "code",
      "metadata": {
        "id": "YHDDk5XMUFEQ"
      },
      "source": [
        "def taschenrechner():\n",
        "  zahl1 = int(input(\"Bitte geben Sie eine Zahl ein.\"))\n",
        "  zahl2 = int(input(\"Bitte geben Sie eine weitere Zahl ein.\"))\n",
        "  operator = input(\"Bitte geben Sie einen Operatoren ein (+ für eine Addition, - für eine Subtraktion, * für eine Multiplikation und / für eine Division): \")\n",
        "  print(zahl1, operator, zahl2)\n",
        "\n",
        " #Hier machen Sie bitte weiter um das Ergebnis zu berechnen...\n",
        "\n",
        "  if operator == \"+\":\n",
        "   print(\"summe ist\",zahl1 + zahl2)\n",
        "  elif operator ==\"-\":\n",
        "    print('Subtraktion ist ', zahl1 - zahl2)\n",
        "  elif operator ==\"/\":\n",
        "    print('division ist',zahl1 / zahl2)"
      ],
      "execution_count": 21,
      "outputs": []
    },
    {
      "cell_type": "code",
      "metadata": {
        "id": "PXimmzd9UItj",
        "colab": {
          "base_uri": "https://localhost:8080/"
        },
        "outputId": "d4d67c62-3501-45f6-871e-6a11c49d0c87"
      },
      "source": [
        "taschenrechner()"
      ],
      "execution_count": 11,
      "outputs": [
        {
          "output_type": "stream",
          "name": "stdout",
          "text": [
            "Bitte geben Sie eine Zahl ein.1\n",
            "Bitte geben Sie eine weitere Zahl ein.6\n",
            "Bitte geben Sie einen Operatoren ein (+ für eine Addition, - für eine Subtraktion, * für eine Multiplikation und / für eine Division): -\n",
            "1 - 6\n",
            "Subtraktion ist  -5\n"
          ]
        }
      ]
    },
    {
      "cell_type": "markdown",
      "metadata": {
        "id": "c5-rAYfxOd19"
      },
      "source": [
        "2. Definieren Sie eine Funktion, die den Median einer Liste ermittelt, je nachdem ob n gerade oder ungerade ist."
      ]
    },
    {
      "cell_type": "code",
      "metadata": {
        "id": "2llWlhLVOjev"
      },
      "source": [
        "def calc_median(liste):\n",
        "  # Der median ist der Merkmalswert des Merkmalsträgers, \n",
        "  # der in der geordneten Reihe in der Mitte steht, daher erstmal die Werte\n",
        "  # der Liste sortieren:\n",
        "  liste.sort() \n",
        "  n = len(liste)\n",
        "  print(\"n: \" + str(n))\n",
        "\n",
        "  #Hier machen Sie bitte weiter um das Ergebnis zu berechnen...\n",
        "  if (n%2)==0:\n",
        "    median=0.5*(n/2+(n/2+1))\n",
        "    return liste[int(median)]\n",
        "  else:\n",
        "    median=(n+1)/2\n",
        "    return liste[int(median)]\n",
        "\n"
      ],
      "execution_count": 18,
      "outputs": []
    },
    {
      "cell_type": "code",
      "metadata": {
        "id": "ORCdUMyzOjpq"
      },
      "source": [
        "koerpergroesse = [180, 156, 162, 155, 167, 184, 173, 185]"
      ],
      "execution_count": 19,
      "outputs": []
    },
    {
      "cell_type": "code",
      "metadata": {
        "id": "f6aXxNneOjva",
        "colab": {
          "base_uri": "https://localhost:8080/"
        },
        "outputId": "a3d05e36-d298-4cf9-a808-9efa5cecfa4b"
      },
      "source": [
        "calc_median(koerpergroesse)"
      ],
      "execution_count": 20,
      "outputs": [
        {
          "output_type": "stream",
          "name": "stdout",
          "text": [
            "n: 8\n"
          ]
        },
        {
          "output_type": "execute_result",
          "data": {
            "text/plain": [
              "173"
            ]
          },
          "metadata": {},
          "execution_count": 20
        }
      ]
    },
    {
      "cell_type": "markdown",
      "metadata": {
        "id": "u6o72g5_J6LS"
      },
      "source": [
        "**Quiz:** Schauen Sie sich das folgende Beispiel an, und versuchen Sie es nachzuvollziehen."
      ]
    },
    {
      "cell_type": "code",
      "metadata": {
        "id": "GxtEf_YMB6HY",
        "colab": {
          "base_uri": "https://localhost:8080/"
        },
        "outputId": "322f1889-6725-449d-8849-9cbff43b1b07"
      },
      "source": [
        "quest1 = {\"Frage\": \"Wann hat Christoph Kolumbus Amerika entdeckt?\", \"a\": \"a: 1492\", \"b\": \"b: 1495\", \"c\": \"c: 1505\", \"d\": \"d: 1848\", \"richtigeAntwort\": \"a\"}\n",
        "quest2 = {\"Frage\": \"In welchem Jahr hat Neil Armstrong den Mond betreten?\", \"a\": \"a: 1967\", \"b\": \"b: 1969\", \"c\": \"c: 1971\", \"d\": \"d: 1979\", \"richtigeAntwort\": \"b\"}\n",
        "quest3 = {\"Frage\": \"Welche Farbe hat Wasser?\", \"a\": \"a: blau\", \"b\": \"b: grün\", \"c\": \"c: gelb\", \"d\": \"d: pink\", \"richtigeAntwort\": \"a\"}\n",
        "\n",
        "questions = [quest1, quest2, quest3]\n",
        "keys = [\"Frage\", \"a\", \"b\", \"c\", \"d\", \"richtigeAntwort\"]\n",
        "\n",
        "def checkAnswer(answer, solution):\n",
        "  if answer == solution:\n",
        "    return True\n",
        "  else:\n",
        "    return False\n",
        "\n",
        "for dict in questions:\n",
        "  for i in range(0, 5):\n",
        "    print(dict.get(keys[i]))\n",
        "  antwort = input(\"Bitte geben Sie die Lösung an: \")\n",
        "  if checkAnswer(antwort, dict.get(keys[5])):\n",
        "    print(\"Richtig!\")\n",
        "  else:\n",
        "    print(\"Falsch!\")"
      ],
      "execution_count": 22,
      "outputs": [
        {
          "output_type": "stream",
          "name": "stdout",
          "text": [
            "Wann hat Christoph Kolumbus Amerika entdeckt?\n",
            "a: 1492\n",
            "b: 1495\n",
            "c: 1505\n",
            "d: 1848\n",
            "Bitte geben Sie die Lösung an: c\n",
            "Falsch!\n",
            "In welchem Jahr hat Neil Armstrong den Mond betreten?\n",
            "a: 1967\n",
            "b: 1969\n",
            "c: 1971\n",
            "d: 1979\n",
            "Bitte geben Sie die Lösung an: b\n",
            "Richtig!\n",
            "Welche Farbe hat Wasser?\n",
            "a: blau\n",
            "b: grün\n",
            "c: gelb\n",
            "d: pink\n",
            "Bitte geben Sie die Lösung an: a\n",
            "Richtig!\n"
          ]
        }
      ]
    }
  ]
}